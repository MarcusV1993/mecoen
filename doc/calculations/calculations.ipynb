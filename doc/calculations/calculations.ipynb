{
 "cells": [
  {
   "cell_type": "markdown",
   "id": "5c0de021",
   "metadata": {},
   "source": [
    "Cálculos utilizado no desenvolvimento do projeto de formatura do departamento de Engenharia de Sistemas Eletrônicos pela Escola Politécnica da Universidade de São Paulo\n",
    "\n",
    "Autor: Marcus Vinicius Gonçalves Mendes\n",
    "N° USP: 9349516\n",
    "Orientadores: Marcelo Knörich Zuffo e Roseli de Deus Lopes\n",
    "Orientador externo: Alberto Ferreira de Sousa"
   ]
  },
  {
   "cell_type": "code",
   "execution_count": 7,
   "id": "a816024e",
   "metadata": {},
   "outputs": [
    {
     "name": "stderr",
     "output_type": "stream",
     "text": [
      "Matplotlib is building the font cache; this may take a moment.\n"
     ]
    }
   ],
   "source": [
    "import math\n",
    "from matplotlib import pyplot as plt"
   ]
  },
  {
   "cell_type": "code",
   "execution_count": 64,
   "id": "5a39d76d",
   "metadata": {},
   "outputs": [],
   "source": [
    "# Constants\n",
    "# Values: 0, 2.5, 6, 11\n",
    "adc_attenuation = 11\n",
    "vcc = 5\n",
    "\n",
    "r_values = [27e3, 33e3, 47e3, 68e3, 82e3, 100e3, 150e3, 220e3, 330e3,470e3, 560e3, 680e3, 1e6, 5.6e6]"
   ]
  },
  {
   "cell_type": "code",
   "execution_count": 82,
   "id": "e8159084",
   "metadata": {},
   "outputs": [],
   "source": [
    "# ESP32 data\n",
    "\n",
    "# ESP32 ADC measurable input voltage ranges, classified by attenuation levels, in Volts\n",
    "# Source: https://docs.espressif.com/projects/esp-idf/en/latest/esp32/api-reference/peripherals/adc.html\n",
    "\n",
    "esp32_adc = {  0: {\"v_min\": 0.10, \"v_max\": 0.95, \"average\": (0.10 + 0.95) / 2, \"excursion\": (0.95 - 0.10)},\n",
    "             2.5: {\"v_min\": 0.10, \"v_max\": 1.25, \"average\": (0.10 + 1.25) / 2, \"excursion\": (1.25 - 0.10)},\n",
    "               6: {\"v_min\": 0.15, \"v_max\": 1.75, \"average\": (0.15 + 1.75) / 2, \"excursion\": (1.75 - 0.15)},\n",
    "              11: {\"v_min\": 0.15, \"v_max\": 2.45, \"average\": (0.15 + 2.45) / 2, \"excursion\": (2.45 - 0.15)}}"
   ]
  },
  {
   "cell_type": "code",
   "execution_count": 119,
   "id": "0e00b880",
   "metadata": {},
   "outputs": [
    {
     "name": "stdout",
     "output_type": "stream",
     "text": [
      "SCT013 Burden Resitor = 16.26 Ω\n",
      "R1 = 2.84615 * R2\n",
      "R1 = 220,000.0 Ω, R2 = 82,000.0 Ω, Percentage to ideal = 94.265 %\n",
      "V_dc_bias = 1.36 V\n",
      "V_signal_min = 0.2076 V, V_signal_max = 2.5076 V\n"
     ]
    }
   ],
   "source": [
    "#############################\n",
    "#                           #\n",
    "# Current sensor SCT013-100 #\n",
    "#                           #\n",
    "#############################\n",
    "\n",
    "# Calculation to connect the SCT013 sensor with the ESP32 ADC\n",
    "# Source: https://learn.openenergymonitor.org/electricity-monitoring/ct-sensors/interface-with-arduino\n",
    "\n",
    "sct013_primary_current_max_rms = 100\n",
    "sct013_number_turns = 2000\n",
    "\n",
    "\n",
    "sct013_primary_current_peak = math.sqrt(2) * sct013_primary_current_max_rms\n",
    "sct013_secondary_current_peak = sct013_primary_current_peak / sct013_number_turns\n",
    "\n",
    "\n",
    "# Calculates the burden resistor value to close the circuit between the output and ground of SCT013\n",
    "sct013_burden_resistor = ((esp32_adc[adc_attenuation][\"excursion\"]) / 2) / sct013_secondary_current_peak\n",
    "print(\"SCT013 Burden Resitor = {:.2f} Ω\".format(sct013_burden_resistor))\n",
    "\n",
    "\n",
    "# Calculates the relation between resistor value to add a DC bias to be connected to SCT013 ground, in which the\n",
    "# sequence is vcc -> r1 -> r2 -> gnd\n",
    "# and r1 is given in multiples of r2, and r2 can be chosen by developer\n",
    "sct013_dc_bias_r1 = (vcc - esp32_adc[adc_attenuation][\"average\"]) / esp32_adc[adc_attenuation][\"average\"]\n",
    "sct013_dc_bias_r2 = 1\n",
    "print(\"R1 = {:.5f} * R2\".format(sct013_dc_bias_r1))\n",
    "\n",
    "\n",
    "# Calculate best combination of real values resistor\n",
    "sct013_dc_bias_r1_real_index = 0\n",
    "sct013_dc_bias_r2_real_index = 0\n",
    "sct013_dc_bias_r_best_match = 0\n",
    "\n",
    "for sct013_r2_index in range(len(r_values)):\n",
    "    for sct013_r1_index in range(sct013_r2_index + 1, len(r_values)):\n",
    "        if abs(((r_values[sct013_r1_index] / r_values[sct013_r2_index]) / sct013_dc_bias_r1) - 1) < abs(sct013_dc_bias_r_best_match - 1):\n",
    "            sct013_dc_bias_r_best_match = (r_values[sct013_r1_index] / r_values[sct013_r2_index]) / sct013_dc_bias_r1\n",
    "            sct013_dc_bias_r2_real_index = sct013_r2_index\n",
    "            sct013_dc_bias_r1_real_index = sct013_r1_index\n",
    "            \n",
    "print(\"R1 = {:,} Ω, R2 = {:,} Ω, Percentage to ideal = {:.5} %\".format(r_values[sct013_dc_bias_r1_real_index], r_values[sct013_dc_bias_r2_real_index], 100 * sct013_dc_bias_r_best_match))\n",
    "sct013_v_dc_bias = vcc * r_values[sct013_dc_bias_r2_real_index] / (r_values[sct013_dc_bias_r1_real_index] + r_values[sct013_dc_bias_r2_real_index])\n",
    "print(\"V_dc_bias = {:.2f} V\".format(sct013_v_dc_bias))\n",
    "print(\"V_signal_min = {:.4f} V, V_signal_max = {:.4f} V\".format(sct013_v_dc_bias - (sct013_secondary_current_peak * sct013_burden_resistor), sct013_v_dc_bias + (sct013_secondary_current_peak * sct013_burden_resistor)))"
   ]
  },
  {
   "cell_type": "code",
   "execution_count": null,
   "id": "bb195d7a",
   "metadata": {},
   "outputs": [],
   "source": [
    "i2 = i1 / n_turns\n",
    "vb = i2 * rb\n",
    "vadc = vb + vbias\n",
    "\n",
    "vb = vadc - vbias\n",
    "i2 = vb / rb\n",
    "i2 = (vadc - vbias) / rb\n",
    "i1 = i2 * nturns\n",
    "i1 = ((vadc - vbias) / rb) * nturns"
   ]
  },
  {
   "cell_type": "code",
   "execution_count": 118,
   "id": "5c0514b6",
   "metadata": {},
   "outputs": [
    {
     "name": "stdout",
     "output_type": "stream",
     "text": [
      "Vout_max = 0.8131727983645297 V\n",
      "R1 (Current Limiting Transistor) = 200000.00 Ω\n",
      "R2 (Sampling Resistor) = 650.54 Ω\n"
     ]
    }
   ],
   "source": [
    "###########################\n",
    "#                         #\n",
    "# Voltage sensor ZMPT101B #\n",
    "#                         #\n",
    "###########################\n",
    "\n",
    "# Needs fixing ################################################################################\n",
    "# Needs fixing ################################################################################\n",
    "# Needs fixing ################################################################################\n",
    "# Verify maximum output voltage\n",
    "\n",
    "# Calculation that should be done to connect the ZMPT101B sensor with the ESP32 ADC, if module didn't have it ebedded\n",
    "# Module already has all resistors, and sampling resistor is trimpot\n",
    "# Source https://innovatorsguru.com/zmpt101b/\n",
    "\n",
    "\n",
    "zmpt101b_rated_input_voltage_rms = 250\n",
    "zmpt101b_rated_input_current_rms = 0.00125\n",
    "\n",
    "\n",
    "zmpt101b_max_output_voltage = esp32_adc[adc_attenuation][\"excursion\"] / (2 * math.sqrt(2))\n",
    "print(\"Vout_max =\", zmpt101b_max_output_voltage, \"V\")\n",
    "\n",
    "\n",
    "zmpt101b_current_limiting_resistor = zmpt101b_rated_input_voltage_rms / zmpt101b_rated_input_current_rms\n",
    "print(\"R1 (Current Limiting Transistor) = {:.2f} Ω\".format(zmpt101b_current_limiting_resistor))\n",
    "\n",
    "\n",
    "zmpt101b_sampling_resistor = (zmpt101b_max_output_voltage / zmpt101b_rated_input_voltage_rms) * zmpt101b_current_limiting_resistor\n",
    "print(\"R2 (Sampling Resistor) = {:.2f} Ω\".format(zmpt101b_sampling_resistor))"
   ]
  },
  {
   "cell_type": "code",
   "execution_count": 107,
   "id": "56d31e3a",
   "metadata": {},
   "outputs": [
    {
     "name": "stdout",
     "output_type": "stream",
     "text": [
      "R1, R2, R3 = 17.00*R3, 15.33*R3, 1.00*R3\n"
     ]
    }
   ],
   "source": [
    "###################\n",
    "#                 #\n",
    "# Voltage divider #\n",
    "#                 #\n",
    "###################\n",
    "\n",
    "# Voltage divider with 3 resistors, in which:\n",
    "# r1 + r2 + r3 = Vcc\n",
    "# r2 + r3 = max adc input\n",
    "# r3 = min adc input\n",
    "\n",
    "\n",
    "voltage_divider_r = [(vcc - esp32_adc[adc_attenuation][\"v_max\"]) / esp32_adc[adc_attenuation][\"v_min\"], \n",
    "                     (esp32_adc[adc_attenuation][\"excursion\"]) / esp32_adc[adc_attenuation][\"v_min\"],\n",
    "                     1]\n",
    "print(\"R1, R2, R3 = {:.2f}*R3, {:.2f}*R3, {:.2f}*R3\".format(voltage_divider_r[0], voltage_divider_r[1], voltage_divider_r[2]))"
   ]
  },
  {
   "cell_type": "code",
   "execution_count": 121,
   "id": "9983c863",
   "metadata": {},
   "outputs": [
    {
     "name": "stdout",
     "output_type": "stream",
     "text": [
      "dc_bias = 0.15 V\n",
      "Vout_max = 2.45 V\n"
     ]
    }
   ],
   "source": [
    "# To calculate a voltage divider output anf offset given input and resistance values\n",
    "# Source: https://electronics.stackexchange.com/questions/166626/how-to-add-a-dc-bias\n",
    "\n",
    "def parallel(r1, r2):\n",
    "    return r1 * r2 / (r1 + r2)\n",
    "\n",
    "def voltage_divider (v_in, r1, r2):\n",
    "    return v_in * r2 / (r1 + r2)\n",
    "\n",
    "def dc_bias_voltage_divider(v_signal, vcc, r1, r2, r3):\n",
    "    v_out = voltage_divider(v_signal, r1, parallel(r2, r3))\n",
    "    v_bias = voltage_divider(vcc, r3, parallel(r1, r2))\n",
    "    \n",
    "    return (v_out, v_bias)\n",
    "\n",
    "voltage_divider_out_bias = dc_bias_voltage_divider(2.5, 5, 33e3, 29765, 506000)\n",
    "print(\"dc_bias = {:.2f} V\\nVout_max = {:.2f} V\".format(voltage_divider_out_bias[1], voltage_divider_out_bias[1] + (2 * voltage_divider_out_bias[0])))"
   ]
  },
  {
   "cell_type": "code",
   "execution_count": 116,
   "id": "76b53508",
   "metadata": {},
   "outputs": [
    {
     "name": "stdout",
     "output_type": "stream",
     "text": [
      "r1 = 33,000 Ω\n",
      "r2 = 29,765 Ω\n",
      "r3 = 506,000 Ω\n"
     ]
    }
   ],
   "source": [
    "# To calculate resistance values of a voltage divider with offset given input and desired output and offset\n",
    "# Derived from\n",
    "#       Source: https://electronics.stackexchange.com/questions/166626/how-to-add-a-dc-bias\n",
    "\n",
    "\n",
    "r1 = 33e3\n",
    "vs = vcc/2\n",
    "vo = esp32_adc[adc_attenuation][\"excursion\"] / 2\n",
    "vbias = esp32_adc[adc_attenuation][\"v_min\"]\n",
    "\n",
    "\n",
    "r2 = r1 * vo * vcc / ((vs * (vcc - vbias)) - (vo * vcc))\n",
    "r3 = r1 / ((vs / vo) - 1 - (r1/r2))\n",
    "print(\"r1 = {:,} Ω\\nr2 = {:,} Ω\\nr3 = {:,} Ω\".format(round(r1), round(r2), round(r3)))"
   ]
  },
  {
   "cell_type": "code",
   "execution_count": 3,
   "id": "fc68c903",
   "metadata": {},
   "outputs": [],
   "source": [
    "def voltage_divider(V, R1, R2):\n",
    "    return (V * R2 / (R1 + R2))"
   ]
  },
  {
   "cell_type": "code",
   "execution_count": 5,
   "id": "25445552",
   "metadata": {},
   "outputs": [
    {
     "name": "stdout",
     "output_type": "stream",
     "text": [
      "1.03125\n",
      "2.325\n"
     ]
    }
   ],
   "source": [
    "print(voltage_divider(3.3, 22e3, 10e3))\n",
    "print(voltage_divider(4.65, 10e3, 10e3))"
   ]
  }
 ],
 "metadata": {
  "kernelspec": {
   "display_name": "Python 3",
   "language": "python",
   "name": "python3"
  },
  "language_info": {
   "codemirror_mode": {
    "name": "ipython",
    "version": 3
   },
   "file_extension": ".py",
   "mimetype": "text/x-python",
   "name": "python",
   "nbconvert_exporter": "python",
   "pygments_lexer": "ipython3",
   "version": "3.8.10"
  }
 },
 "nbformat": 4,
 "nbformat_minor": 5
}
