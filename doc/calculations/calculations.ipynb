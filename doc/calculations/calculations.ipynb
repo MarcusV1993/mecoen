{
 "cells": [
  {
   "cell_type": "markdown",
   "id": "5c0de021",
   "metadata": {},
   "source": [
    "Cálculos utilizado no desenvolvimento do projeto de formatura do departamento de Engenharia de Sistemas Eletrônicos pela Escola Politécnica da Universidade de São Paulo\n",
    "\n",
    "Autor: Marcus Vinicius Gonçalves Mendes\n",
    "N° USP: 9349516\n",
    "Orientadores: Marcelo Knörich Zuffo e Roseli de Deus Lopes\n",
    "Orientador externo: Alberto Ferreira de Sousa"
   ]
  },
  {
   "cell_type": "code",
   "execution_count": 1,
   "id": "a816024e",
   "metadata": {},
   "outputs": [],
   "source": [
    "import math"
   ]
  },
  {
   "cell_type": "code",
   "execution_count": 2,
   "id": "85d16bf0",
   "metadata": {},
   "outputs": [],
   "source": [
    "from matplotlib import pyplot as plt"
   ]
  },
  {
   "cell_type": "code",
   "execution_count": 64,
   "id": "5a39d76d",
   "metadata": {},
   "outputs": [],
   "source": [
    "# Constants\n",
    "# Values: 0, 2.5, 6, 11\n",
    "adc_attenuation = 11\n",
    "vcc = 5\n",
    "\n",
    "r_values = [27e3, 33e3, 47e3, 68e3, 82e3, 100e3, 150e3, 220e3, 330e3,470e3, 560e3, 680e3, 1e6, 5.6e6]"
   ]
  },
  {
   "cell_type": "code",
   "execution_count": 82,
   "id": "e8159084",
   "metadata": {},
   "outputs": [],
   "source": [
    "# ESP32 data\n",
    "\n",
    "# ESP32 ADC measurable input voltage ranges, classified by attenuation levels, in Volts\n",
    "# Source: https://docs.espressif.com/projects/esp-idf/en/latest/esp32/api-reference/peripherals/adc.html\n",
    "\n",
    "esp32_adc = {  0: {\"v_min\": 0.10, \"v_max\": 0.95, \"average\": (0.10 + 0.95) / 2, \"excursion\": (0.95 - 0.10)},\n",
    "             2.5: {\"v_min\": 0.10, \"v_max\": 1.25, \"average\": (0.10 + 1.25) / 2, \"excursion\": (1.25 - 0.10)},\n",
    "               6: {\"v_min\": 0.15, \"v_max\": 1.75, \"average\": (0.15 + 1.75) / 2, \"excursion\": (1.75 - 0.15)},\n",
    "              11: {\"v_min\": 0.15, \"v_max\": 2.45, \"average\": (0.15 + 2.45) / 2, \"excursion\": (2.45 - 0.15)}}"
   ]
  },
  {
   "cell_type": "code",
   "execution_count": 119,
   "id": "0e00b880",
   "metadata": {},
   "outputs": [
    {
     "name": "stdout",
     "output_type": "stream",
     "text": [
      "SCT013 Burden Resitor = 16.26 Ω\n",
      "R1 = 2.84615 * R2\n",
      "R1 = 220,000.0 Ω, R2 = 82,000.0 Ω, Percentage to ideal = 94.265 %\n",
      "V_dc_bias = 1.36 V\n",
      "V_signal_min = 0.2076 V, V_signal_max = 2.5076 V\n"
     ]
    }
   ],
   "source": [
    "#############################\n",
    "#                           #\n",
    "# Current sensor SCT013-100 #\n",
    "#                           #\n",
    "#############################\n",
    "\n",
    "# Calculation to connect the SCT013 sensor with the ESP32 ADC\n",
    "# Source: https://learn.openenergymonitor.org/electricity-monitoring/ct-sensors/interface-with-arduino\n",
    "\n",
    "sct013_primary_current_max_rms = 100\n",
    "sct013_number_turns = 2000\n",
    "\n",
    "\n",
    "sct013_primary_current_peak = math.sqrt(2) * sct013_primary_current_max_rms\n",
    "sct013_secondary_current_peak = sct013_primary_current_peak / sct013_number_turns\n",
    "\n",
    "\n",
    "# Calculates the burden resistor value to close the circuit between the output and ground of SCT013\n",
    "sct013_burden_resistor = ((esp32_adc[adc_attenuation][\"excursion\"]) / 2) / sct013_secondary_current_peak\n",
    "print(\"SCT013 Burden Resitor = {:.2f} Ω\".format(sct013_burden_resistor))\n",
    "\n",
    "\n",
    "# Calculates the relation between resistor value to add a DC bias to be connected to SCT013 ground, in which the\n",
    "# sequence is vcc -> r1 -> r2 -> gnd\n",
    "# and r1 is given in multiples of r2, and r2 can be chosen by developer\n",
    "sct013_dc_bias_r1 = (vcc - esp32_adc[adc_attenuation][\"average\"]) / esp32_adc[adc_attenuation][\"average\"]\n",
    "sct013_dc_bias_r2 = 1\n",
    "print(\"R1 = {:.5f} * R2\".format(sct013_dc_bias_r1))\n",
    "\n",
    "\n",
    "# Calculate best combination of real values resistor\n",
    "sct013_dc_bias_r1_real_index = 0\n",
    "sct013_dc_bias_r2_real_index = 0\n",
    "sct013_dc_bias_r_best_match = 0\n",
    "\n",
    "for sct013_r2_index in range(len(r_values)):\n",
    "    for sct013_r1_index in range(sct013_r2_index + 1, len(r_values)):\n",
    "        if abs(((r_values[sct013_r1_index] / r_values[sct013_r2_index]) / sct013_dc_bias_r1) - 1) < abs(sct013_dc_bias_r_best_match - 1):\n",
    "            sct013_dc_bias_r_best_match = (r_values[sct013_r1_index] / r_values[sct013_r2_index]) / sct013_dc_bias_r1\n",
    "            sct013_dc_bias_r2_real_index = sct013_r2_index\n",
    "            sct013_dc_bias_r1_real_index = sct013_r1_index\n",
    "            \n",
    "print(\"R1 = {:,} Ω, R2 = {:,} Ω, Percentage to ideal = {:.5} %\".format(r_values[sct013_dc_bias_r1_real_index], r_values[sct013_dc_bias_r2_real_index], 100 * sct013_dc_bias_r_best_match))\n",
    "sct013_v_dc_bias = vcc * r_values[sct013_dc_bias_r2_real_index] / (r_values[sct013_dc_bias_r1_real_index] + r_values[sct013_dc_bias_r2_real_index])\n",
    "print(\"V_dc_bias = {:.2f} V\".format(sct013_v_dc_bias))\n",
    "print(\"V_signal_min = {:.4f} V, V_signal_max = {:.4f} V\".format(sct013_v_dc_bias - (sct013_secondary_current_peak * sct013_burden_resistor), sct013_v_dc_bias + (sct013_secondary_current_peak * sct013_burden_resistor)))"
   ]
  },
  {
   "cell_type": "code",
   "execution_count": null,
   "id": "bb8546c1",
   "metadata": {},
   "outputs": [],
   "source": [
    "i2 = i1 / n_turns\n",
    "vb = i2 * rb\n",
    "vadc = vb + vbias\n",
    "\n",
    "vb = vadc - vbias\n",
    "i2 = vb / rb\n",
    "i2 = (vadc - vbias) / rb\n",
    "i1 = i2 * nturns\n",
    "i1 = ((vadc - vbias) / rb) * nturns"
   ]
  },
  {
   "cell_type": "code",
   "execution_count": 3,
   "id": "4ab7f131",
   "metadata": {},
   "outputs": [
    {
     "data": {
      "text/plain": [
       "1.0317073170731708"
      ]
     },
     "execution_count": 3,
     "metadata": {},
     "output_type": "execute_result"
    }
   ],
   "source": [
    "3.3 * 9.87 / (21.7 + 9.87)"
   ]
  },
  {
   "cell_type": "code",
   "execution_count": 7,
   "id": "948efe8b",
   "metadata": {},
   "outputs": [
    {
     "data": {
      "text/plain": [
       "0.820243866176395"
      ]
     },
     "execution_count": 7,
     "metadata": {},
     "output_type": "execute_result"
    }
   ],
   "source": [
    "math.sqrt(2) * (1.7 - 1.12)"
   ]
  },
  {
   "cell_type": "code",
   "execution_count": 8,
   "id": "9f74c28a",
   "metadata": {},
   "outputs": [
    {
     "data": {
      "text/plain": [
       "311.1269837220809"
      ]
     },
     "execution_count": 8,
     "metadata": {},
     "output_type": "execute_result"
    }
   ],
   "source": [
    "220*math.sqrt(2)"
   ]
  },
  {
   "cell_type": "code",
   "execution_count": 118,
   "id": "5c0514b6",
   "metadata": {},
   "outputs": [
    {
     "name": "stdout",
     "output_type": "stream",
     "text": [
      "Vout_max = 0.8131727983645297 V\n",
      "R1 (Current Limiting Transistor) = 200000.00 Ω\n",
      "R2 (Sampling Resistor) = 650.54 Ω\n"
     ]
    }
   ],
   "source": [
    "###########################\n",
    "#                         #\n",
    "# Voltage sensor ZMPT101B #\n",
    "#                         #\n",
    "###########################\n",
    "\n",
    "# Needs fixing ################################################################################\n",
    "# Needs fixing ################################################################################\n",
    "# Needs fixing ################################################################################\n",
    "# Verify maximum output voltage\n",
    "\n",
    "# Calculation that should be done to connect the ZMPT101B sensor with the ESP32 ADC, if module didn't have it ebedded\n",
    "# Module already has all resistors, and sampling resistor is trimpot\n",
    "# Source https://innovatorsguru.com/zmpt101b/\n",
    "\n",
    "\n",
    "zmpt101b_rated_input_voltage_rms = 250\n",
    "zmpt101b_rated_input_current_rms = 0.00125\n",
    "\n",
    "\n",
    "zmpt101b_max_output_voltage = esp32_adc[adc_attenuation][\"excursion\"] / (2 * math.sqrt(2))\n",
    "print(\"Vout_max =\", zmpt101b_max_output_voltage, \"V\")\n",
    "\n",
    "\n",
    "zmpt101b_current_limiting_resistor = zmpt101b_rated_input_voltage_rms / zmpt101b_rated_input_current_rms\n",
    "print(\"R1 (Current Limiting Transistor) = {:.2f} Ω\".format(zmpt101b_current_limiting_resistor))\n",
    "\n",
    "\n",
    "zmpt101b_sampling_resistor = (zmpt101b_max_output_voltage / zmpt101b_rated_input_voltage_rms) * zmpt101b_current_limiting_resistor\n",
    "print(\"R2 (Sampling Resistor) = {:.2f} Ω\".format(zmpt101b_sampling_resistor))"
   ]
  },
  {
   "cell_type": "code",
   "execution_count": 107,
   "id": "56d31e3a",
   "metadata": {},
   "outputs": [
    {
     "name": "stdout",
     "output_type": "stream",
     "text": [
      "R1, R2, R3 = 17.00*R3, 15.33*R3, 1.00*R3\n"
     ]
    }
   ],
   "source": [
    "###################\n",
    "#                 #\n",
    "# Voltage divider #\n",
    "#                 #\n",
    "###################\n",
    "\n",
    "# Voltage divider with 3 resistors, in which:\n",
    "# r1 + r2 + r3 = Vcc\n",
    "# r2 + r3 = max adc input\n",
    "# r3 = min adc input\n",
    "\n",
    "\n",
    "voltage_divider_r = [(vcc - esp32_adc[adc_attenuation][\"v_max\"]) / esp32_adc[adc_attenuation][\"v_min\"], \n",
    "                     (esp32_adc[adc_attenuation][\"excursion\"]) / esp32_adc[adc_attenuation][\"v_min\"],\n",
    "                     1]\n",
    "print(\"R1, R2, R3 = {:.2f}*R3, {:.2f}*R3, {:.2f}*R3\".format(voltage_divider_r[0], voltage_divider_r[1], voltage_divider_r[2]))"
   ]
  },
  {
   "cell_type": "code",
   "execution_count": 121,
   "id": "9983c863",
   "metadata": {},
   "outputs": [
    {
     "name": "stdout",
     "output_type": "stream",
     "text": [
      "dc_bias = 0.15 V\n",
      "Vout_max = 2.45 V\n"
     ]
    }
   ],
   "source": [
    "# To calculate a voltage divider output anf offset given input and resistance values\n",
    "# Source: https://electronics.stackexchange.com/questions/166626/how-to-add-a-dc-bias\n",
    "\n",
    "def parallel(r1, r2):\n",
    "    return r1 * r2 / (r1 + r2)\n",
    "\n",
    "def voltage_divider (v_in, r1, r2):\n",
    "    return v_in * r2 / (r1 + r2)\n",
    "\n",
    "def dc_bias_voltage_divider(v_signal, vcc, r1, r2, r3):\n",
    "    v_out = voltage_divider(v_signal, r1, parallel(r2, r3))\n",
    "    v_bias = voltage_divider(vcc, r3, parallel(r1, r2))\n",
    "    \n",
    "    return (v_out, v_bias)\n",
    "\n",
    "voltage_divider_out_bias = dc_bias_voltage_divider(2.5, 5, 33e3, 29765, 506000)\n",
    "print(\"dc_bias = {:.2f} V\\nVout_max = {:.2f} V\".format(voltage_divider_out_bias[1], voltage_divider_out_bias[1] + (2 * voltage_divider_out_bias[0])))"
   ]
  },
  {
   "cell_type": "code",
   "execution_count": 116,
   "id": "76b53508",
   "metadata": {},
   "outputs": [
    {
     "name": "stdout",
     "output_type": "stream",
     "text": [
      "r1 = 33,000 Ω\n",
      "r2 = 29,765 Ω\n",
      "r3 = 506,000 Ω\n"
     ]
    }
   ],
   "source": [
    "# To calculate resistance values of a voltage divider with offset given input and desired output and offset\n",
    "# Derived from\n",
    "#       Source: https://electronics.stackexchange.com/questions/166626/how-to-add-a-dc-bias\n",
    "\n",
    "\n",
    "r1 = 33e3\n",
    "vs = vcc/2\n",
    "vo = esp32_adc[adc_attenuation][\"excursion\"] / 2\n",
    "vbias = esp32_adc[adc_attenuation][\"v_min\"]\n",
    "\n",
    "\n",
    "r2 = r1 * vo * vcc / ((vs * (vcc - vbias)) - (vo * vcc))\n",
    "r3 = r1 / ((vs / vo) - 1 - (r1/r2))\n",
    "print(\"r1 = {:,} Ω\\nr2 = {:,} Ω\\nr3 = {:,} Ω\".format(round(r1), round(r2), round(r3)))"
   ]
  },
  {
   "cell_type": "code",
   "execution_count": 3,
   "id": "fc68c903",
   "metadata": {},
   "outputs": [],
   "source": [
    "def voltage_divider(V, R1, R2):\n",
    "    return (V * R2 / (R1 + R2))"
   ]
  },
  {
   "cell_type": "code",
   "execution_count": 5,
   "id": "25445552",
   "metadata": {},
   "outputs": [
    {
     "name": "stdout",
     "output_type": "stream",
     "text": [
      "1.03125\n",
      "2.325\n"
     ]
    }
   ],
   "source": [
    "print(voltage_divider(3.3, 22e3, 10e3))\n",
    "print(voltage_divider(4.65, 10e3, 10e3))"
   ]
  },
  {
   "cell_type": "code",
   "execution_count": 22,
   "id": "9a8f5dce",
   "metadata": {},
   "outputs": [],
   "source": [
    "import math\n",
    "import numpy as np\n",
    "from scipy import fftpack\n",
    "from matplotlib import pyplot as plt"
   ]
  },
  {
   "cell_type": "code",
   "execution_count": 20,
   "id": "7bb0813e",
   "metadata": {},
   "outputs": [],
   "source": [
    "def dsps_tone_gen_f32(length, Ampl, freq, phase = 0):\n",
    "    output = [0]*length\n",
    "    ph = phase / 180 * math.pi\n",
    "    fr  = 2 * math.pi * freq;\n",
    "    for i in range(length):\n",
    "        output[i] = Ampl * math.sin(ph);\n",
    "        ph += fr;\n",
    "        if ph > 2 * math.pi:\n",
    "            ph -= 2 * math.pi\n",
    "        if ph < -2 * math.pi:\n",
    "            ph += 2 * math.pi\n",
    "    return output"
   ]
  },
  {
   "cell_type": "code",
   "execution_count": 24,
   "id": "58ad4b94",
   "metadata": {},
   "outputs": [
    {
     "name": "stdout",
     "output_type": "stream",
     "text": [
      "-0.5 0.49951171875\n"
     ]
    },
    {
     "data": {
      "text/plain": [
       "Text(0, 0.5, 'Frequency Domain (Spectrum) Magnitude')"
      ]
     },
     "execution_count": 24,
     "metadata": {},
     "output_type": "execute_result"
    },
    {
     "data": {
      "image/png": "[encoded data removed]",
      "text/plain": [
       "<Figure size 432x288 with 1 Axes>"
      ]
     },
     "metadata": {
      "needs_background": "light"
     },
     "output_type": "display_data"
    }
   ],
   "source": [
    "x1 = dsps_tone_gen_f32(2048, 1.0, 0.16)\n",
    "\n",
    "X1 = fftpack.fft(x1)\n",
    "freqs = fftpack.fftfreq(len(x1))# * f_s\n",
    "print(min(freqs), max(freqs))\n",
    "\n",
    "fig, ax = plt.subplots()\n",
    "\n",
    "ax.stem(freqs, np.abs(X1))\n",
    "ax.xaxis.set_ticks(np.arange(-0.5, 0.5, 0.1))\n",
    "ax.set_xlabel('Frequency in Hertz [Hz]')\n",
    "ax.set_ylabel('Frequency Domain (Spectrum) Magnitude')\n",
    "#ax.set_xlim(-f_s / 2, f_s / 2)\n",
    "#ax.set_ylim(-5, 110)"
   ]
  },
  {
   "cell_type": "code",
   "execution_count": 25,
   "id": "c18460be",
   "metadata": {},
   "outputs": [
    {
     "data": {
      "text/plain": [
       "Text(0, 0.5, 'Frequency Domain (Spectrum) Magnitude')"
      ]
     },
     "execution_count": 25,
     "metadata": {},
     "output_type": "execute_result"
    },
    {
     "data": {
      "image/png": "[encoded data removed]",
      "text/plain": [
       "<Figure size 432x288 with 1 Axes>"
      ]
     },
     "metadata": {
      "needs_background": "light"
     },
     "output_type": "display_data"
    }
   ],
   "source": [
    "x2 = dsps_tone_gen_f32(1024, 0.1, 0.2)\n",
    "\n",
    "X2 = fftpack.fft(x2)\n",
    "freqs = fftpack.fftfreq(len(x2))# * f_s\n",
    "\n",
    "fig, ax = plt.subplots()\n",
    "\n",
    "ax.stem(freqs, np.abs(X2))\n",
    "ax.xaxis.set_ticks(np.arange(-0.5, 0.5, 0.1))\n",
    "ax.set_xlabel('Frequency in Hertz [Hz]')\n",
    "ax.set_ylabel('Frequency Domain (Spectrum) Magnitude')\n",
    "#ax.set_xlim(-f_s / 2, f_s / 2)\n",
    "#ax.set_ylim(-5, 110)"
   ]
  },
  {
   "cell_type": "code",
   "execution_count": 7,
   "id": "da625900",
   "metadata": {},
   "outputs": [],
   "source": [
    "def dsps_cplx2reC_fc32_ansi(data, N):\n",
    "    if not ((N != 0) and ((N & (N - 1)) == 0)):\n",
    "        return\n",
    "    \n",
    "    n2 = N << 1\n",
    "\n",
    "    rkl = 0\n",
    "    rkh = 0\n",
    "    rnl = 0\n",
    "    rnh = 0\n",
    "    ikl = 0\n",
    "    ikh = 0\n",
    "    inl = 0\n",
    "    inh = 0\n",
    "\n",
    "    for i in range(N // 4):\n",
    "        rkl = data[i * 2 + 0 + 2];\n",
    "        ikl = data[i * 2 + 1 + 2];\n",
    "        rnl = data[n2 - i * 2 - 2];\n",
    "        inl = data[n2 - i * 2 - 1];\n",
    "\n",
    "        rkh = data[i * 2 + 0 + 2 + N];\n",
    "        ikh = data[i * 2 + 1 + 2 + N];\n",
    "        rnh = data[n2 - i * 2 - 2 - N];\n",
    "        inh = data[n2 - i * 2 - 1 - N];\n",
    "\n",
    "        data[i * 2 + 0 + 2] = rkl + rnl;\n",
    "        data[i * 2 + 1 + 2] = ikl - inl;\n",
    "\n",
    "        data[n2 - i * 2 - 1 - N] = rkh + rnh;\n",
    "        data[n2 - i * 2 - 2 - N] = ikh - inh;\n",
    "\n",
    "        data[i * 2 + 0 + 2 + N] = ikl + inl;\n",
    "        data[i * 2 + 1 + 2 + N] = rkl - rnl;\n",
    "\n",
    "        data[n2 - i * 2 - 1] = ikh + inh;\n",
    "        data[n2 - i * 2 - 2] = rkh - rnh;\n",
    "    \n",
    "    data[N] = data[1]\n",
    "    data[1] = 0\n",
    "    data[N + 1] = 0"
   ]
  },
  {
   "cell_type": "code",
   "execution_count": 15,
   "id": "23f4ef50",
   "metadata": {},
   "outputs": [
    {
     "name": "stdout",
     "output_type": "stream",
     "text": [
      "[0, 1, 2, 3, 4, 5, 6, 7, 8, 9, 10, 11, 12, 13, 14, 15, 16, 17, 18, 19, 20, 21, 22, 23, 24, 25, 26, 27, 28, 29, 30, 31, 32, 33, 34, 35, 36, 37, 38, 39, 40, 41, 42, 43, 44, 45, 46, 47, 48, 49, 50, 51, 52, 53, 54, 55, 56, 57, 58, 59, 60, 61, 62, 63, 64, 65, 66, 67, 68, 69, 70, 71, 72, 73, 74, 75, 76, 77, 78, 79, 80, 81, 82, 83, 84, 85, 86, 87, 88, 89, 90, 91, 92, 93, 94, 95, 96, 97, 98, 99, 100, 101, 102, 103, 104, 105, 106, 107, 108, 109, 110, 111, 112, 113, 114, 115, 116, 117, 118, 119, 120, 121, 122, 123, 124, 125, 126, 127] \n",
      "\n",
      "[0, 0, 128, -124, 128, -120, 128, -116, 128, -112, 128, -108, 128, -104, 128, -100, 128, -96, 128, -92, 128, -88, 128, -84, 128, -80, 128, -76, 128, -72, 128, -68, 64, 128, 60, 128, 56, 128, 52, 128, 48, 128, 44, 128, 40, 128, 36, 128, 32, 128, 28, 128, 24, 128, 20, 128, 16, 128, 12, 128, 8, 128, 4, 128] \n",
      "\n",
      "[0, 130, -124, 130, -120, 130, -116, 130, -112, 130, -108, 130, -104, 130, -100, 130, -96, 130, -92, 130, -88, 130, -84, 130, -80, 130, -76, 130, -72, 130, -68, 64, 130, 60, 130, 56, 130, 52, 130, 48, 130, 44, 130, 40, 130, 36, 130, 32, 130, 28, 130, 24, 130, 20, 130, 16, 130, 12, 130, 8, 130, 4, 130] \n",
      "\n"
     ]
    }
   ],
   "source": [
    "N = 64\n",
    "data = [i for i in range(2 * N)]\n",
    "print(data,\"\\n\")\n",
    "dsps_cplx2reC_fc32_ansi(data, N)\n",
    "print(data[:N], \"\\n\")\n",
    "print(data[N + 1:], \"\\n\")"
   ]
  },
  {
   "cell_type": "code",
   "execution_count": 38,
   "id": "0ee79ecb",
   "metadata": {},
   "outputs": [],
   "source": [
    "import math\n",
    "def rms_pp(rms):\n",
    "    return (rms*math.sqrt(2)) * 2\n",
    "def pp_rms(pp):\n",
    "    return (pp / 2) / math.sqrt(2)"
   ]
  },
  {
   "cell_type": "code",
   "execution_count": 40,
   "id": "21ad7d78",
   "metadata": {},
   "outputs": [
    {
     "name": "stdout",
     "output_type": "stream",
     "text": [
      "ADC excursion: 2.3000000000000003\n",
      "Irms = 5.454545454545454\n",
      "I / max(I) = 54.55 %\n",
      "Vpp for I(5.45) = 1.41\n",
      "Vpp / ADC excursion = 61.49 %\n",
      "0.4435487991079253\n"
     ]
    }
   ],
   "source": [
    "adc_max = 2.45\n",
    "adc_min = 0.15\n",
    "print(\"ADC excursion:\", adc_max - adc_min)\n",
    "P = 1200 # Watts\n",
    "Vrms = 220\n",
    "Irms = P / Vrms\n",
    "print(\"Irms =\", Irms)\n",
    "Irms_max = 10\n",
    "print(\"I / max(I) = {:.2f} %\".format(100 * Irms / Irms_max))\n",
    "pp_P = rms_pp(0.5)\n",
    "print(\"Vpp for I({:.2f}) = {:.2f}\".format(Irms, pp_P))\n",
    "print(\"Vpp / ADC excursion = {:.2f} %\".format(100 * pp_P / (adc_max - adc_min)))\n",
    "print(pp_rms(adc_max - adc_min) * Irms / Irms_max)"
   ]
  },
  {
   "cell_type": "code",
   "execution_count": 42,
   "id": "44e8b8a8",
   "metadata": {},
   "outputs": [
    {
     "name": "stdout",
     "output_type": "stream",
     "text": [
      "1.4142135623730951\n"
     ]
    }
   ],
   "source": [
    "vdc = 1027 / 1000 # V\n",
    "vrms = 1.5\n",
    "\n",
    "vrms2 = 2\n",
    "\n",
    "vdiff = vrms2 - vrms\n",
    "\n",
    "vpp = 2 * math.sqrt(2) * vdiff\n",
    "\n",
    "print(vpp)"
   ]
  },
  {
   "cell_type": "code",
   "execution_count": 43,
   "id": "e55626cb",
   "metadata": {},
   "outputs": [
    {
     "data": {
      "text/plain": [
       "6.397058823529412"
      ]
     },
     "execution_count": 43,
     "metadata": {},
     "output_type": "execute_result"
    }
   ],
   "source": [
    "r1 = 3.48 * 1000 # ohm\n",
    "r2 = 544 # ohm\n",
    "\n",
    "r1 / r2"
   ]
  }
 ],
 "metadata": {
  "kernelspec": {
   "display_name": "Python 3",
   "language": "python",
   "name": "python3"
  },
  "language_info": {
   "codemirror_mode": {
    "name": "ipython",
    "version": 3
   },
   "file_extension": ".py",
   "mimetype": "text/x-python",
   "name": "python",
   "nbconvert_exporter": "python",
   "pygments_lexer": "ipython3",
   "version": "3.8.10"
  }
 },
 "nbformat": 4,
 "nbformat_minor": 5
}
